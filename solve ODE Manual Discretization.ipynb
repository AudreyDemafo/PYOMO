{
 "cells": [
  {
   "cell_type": "code",
   "execution_count": 89,
   "id": "8d937b44-e2f3-436f-9743-d948ffad88e9",
   "metadata": {},
   "outputs": [],
   "source": [
    "from pyomo.environ import *\n",
    "from pyomo.dae import *\n",
    "import numpy as np"
   ]
  },
  {
   "cell_type": "markdown",
   "id": "45d6335d-6763-49b2-a1c5-c4f7a22b39f6",
   "metadata": {},
   "source": [
    "1. Solution with Manual discretization"
   ]
  },
  {
   "cell_type": "code",
   "execution_count": 96,
   "id": "0be4b794-7626-4380-92bd-b0ac5a73b7a6",
   "metadata": {},
   "outputs": [
    {
     "name": "stdout",
     "output_type": "stream",
     "text": [
      "[0.2, -1.8, -13.8, -85.8, -517.8, -3109.8, -18661.8, -111973.8, -671845.8, -4031077.8, -24186469.8, -145118821.8, -870712933.8, -5224277605.8, -31345665637.8, -188073993829.8, -1128443962981.8, -6770663777893.8, -40623982667365.8, -243743896004198.0, -1462463376025190.0, -8774780256151140.0, -5.26486815369069e+16, -3.15892089221441e+17, -1.89535253532865e+18]\n"
     ]
    }
   ],
   "source": [
    "m = ConcreteModel() \n",
    "t = np.linspace(0, 24, 25)\n",
    "m.t = ContinuousSet(initialize=t)\n",
    "m.x = Var(m.t)\n",
    "m.ht = Param(initialize=1)\n",
    "\n",
    "m.dxdt = Var(m.t)\n",
    "\n",
    "## Define the ODE equation\n",
    "def _ode(m, k):\n",
    "    return m.dxdt[k]==5*m.x[k] - 3 \n",
    "\n",
    "## Define the discretization scheme\n",
    "def _ode_discr(m, k):\n",
    "    if k==0:\n",
    "        return Constraint.Skip\n",
    "    return m.x[k] == m.x[k-1] + m.ht*m.dxdt[k-1]\n",
    "\n",
    "def _initial_cond(m):\n",
    "    return m.x[0]==0.2  \n",
    "m.initial_cond = Constraint(rule=_initial_cond) \n",
    "\n",
    "sol=[]  ## Solution storage\n",
    "\n",
    "# Iterative solve()\n",
    "for t in m.t:\n",
    "    if 'ode' and 'ode_discr' in m.component_map():\n",
    "        m.del_component(m.ode)\n",
    "        m.del_component(m.ode_discr)\n",
    "    m.ode = Constraint(m.t, rule=_ode)\n",
    "    m.ode_discr = Constraint(m.t, rule=_ode_discr) \n",
    "    solver = SolverFactory(\"glpk\")\n",
    "    solver.solve(m, tee=False) \n",
    "    sol.append(value(m.x[t]))\n",
    "print(sol)"
   ]
  },
  {
   "cell_type": "markdown",
   "id": "743861be-6172-4981-b10f-680ee2310b9d",
   "metadata": {},
   "source": [
    "2. Solution with Automatic discretization"
   ]
  },
  {
   "cell_type": "code",
   "execution_count": 98,
   "id": "3e365eee-d7e6-41fa-95c3-bd5e3208fb19",
   "metadata": {},
   "outputs": [],
   "source": [
    "m = ConcreteModel()\n",
    "m.t = ContinuousSet(bounds=(0,24))\n",
    "m.x = Var(m.t)\n",
    "\n",
    "m.dxdt = DerivativeVar(m.x, wrt=m.t)\n",
    "\n",
    "def _ode(m, k):\n",
    "    return m.dxdt[k]==5*m.x[k] - 3\n",
    "m.ode = Constraint(m.t, rule=_ode)\n",
    "\n",
    "def _initial_cond(m):\n",
    "    return m.x[0]==0.2  \n",
    "m.initial_cond = Constraint(rule=_initial_cond) \n",
    "\n",
    "m.obj = 1\n",
    "\n",
    "discretizer = TransformationFactory(\"dae.finite_difference\")\n",
    "discretizer.apply_to(m, nfe = 24, scheme=\"FORWARD\")\n",
    "\n",
    "\n",
    "solver = SolverFactory('glpk')\n",
    "result = solver.solve(m)"
   ]
  },
  {
   "cell_type": "markdown",
   "id": "981a59d5-4b0a-4ed5-b036-f5f361e31e57",
   "metadata": {},
   "source": [
    "3. Analytical solution"
   ]
  },
  {
   "cell_type": "code",
   "execution_count": 92,
   "id": "55246c14-ebf6-4c44-bb0f-05f38490b414",
   "metadata": {},
   "outputs": [],
   "source": [
    "import numpy as np\n",
    "def x(t):\n",
    "    return (-0.4)*np.exp(5*t) + (0.6) \n",
    "t = np.linspace(0, 24, 25)    ## h = (b-a)/(N-1)\n",
    "sol1 = x(t)"
   ]
  },
  {
   "cell_type": "markdown",
   "id": "1595984e-31b2-4623-b581-24756bf8c53e",
   "metadata": {},
   "source": [
    "4. Solution plotting"
   ]
  },
  {
   "cell_type": "code",
   "execution_count": 93,
   "id": "ab1d7e50-129d-4d18-aa63-fcc9ce41d6e5",
   "metadata": {},
   "outputs": [
    {
     "data": {
      "text/plain": [
       "[<matplotlib.lines.Line2D at 0x7f3e50acdf90>]"
      ]
     },
     "execution_count": 93,
     "metadata": {},
     "output_type": "execute_result"
    },
    {
     "data": {
      "image/png": "[encoded data removed]",
      "text/plain": [
       "<Figure size 640x480 with 1 Axes>"
      ]
     },
     "metadata": {},
     "output_type": "display_data"
    }
   ],
   "source": [
    "from matplotlib import pyplot as plt\n",
    "# plt.plot(t, sol1)\n",
    "plt.plot(t, sol)"
   ]
  }
 ],
 "metadata": {
  "kernelspec": {
   "display_name": "Python 3 (ipykernel)",
   "language": "python",
   "name": "python3"
  },
  "language_info": {
   "codemirror_mode": {
    "name": "ipython",
    "version": 3
   },
   "file_extension": ".py",
   "mimetype": "text/x-python",
   "name": "python",
   "nbconvert_exporter": "python",
   "pygments_lexer": "ipython3",
   "version": "3.11.8"
  }
 },
 "nbformat": 4,
 "nbformat_minor": 5
}
